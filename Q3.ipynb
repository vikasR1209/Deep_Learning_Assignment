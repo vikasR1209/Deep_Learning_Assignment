{
  "nbformat": 4,
  "nbformat_minor": 0,
  "metadata": {
    "colab": {
      "provenance": []
    },
    "kernelspec": {
      "name": "python3",
      "display_name": "Python 3"
    },
    "language_info": {
      "name": "python"
    }
  },
  "cells": [
    {
      "cell_type": "code",
      "execution_count": null,
      "metadata": {
        "colab": {
          "base_uri": "https://localhost:8080/"
        },
        "id": "CSTJnktRasA8",
        "outputId": "4becd006-c074-427b-e366-1a4cb250f4c0"
      },
      "outputs": [
        {
          "output_type": "stream",
          "name": "stdout",
          "text": [
            "Downloading data from https://www.cs.toronto.edu/~kriz/cifar-10-python.tar.gz\n",
            "170498071/170498071 [==============================] - 2s 0us/step\n",
            "Epoch 1/10\n",
            "352/352 [==============================] - 17s 46ms/step - loss: 1.9110 - accuracy: 0.3078 - val_loss: 1.7411 - val_accuracy: 0.3754\n",
            "Epoch 2/10\n",
            "352/352 [==============================] - 15s 44ms/step - loss: 1.6979 - accuracy: 0.3908 - val_loss: 1.6780 - val_accuracy: 0.3902\n",
            "Epoch 3/10\n",
            "352/352 [==============================] - 15s 42ms/step - loss: 1.6097 - accuracy: 0.4249 - val_loss: 1.6227 - val_accuracy: 0.4108\n",
            "Epoch 4/10\n",
            "352/352 [==============================] - 16s 46ms/step - loss: 1.5531 - accuracy: 0.4445 - val_loss: 1.5782 - val_accuracy: 0.4362\n",
            "Epoch 5/10\n",
            "352/352 [==============================] - 15s 44ms/step - loss: 1.5027 - accuracy: 0.4645 - val_loss: 1.5777 - val_accuracy: 0.4278\n",
            "Epoch 6/10\n",
            "352/352 [==============================] - 16s 46ms/step - loss: 1.4707 - accuracy: 0.4734 - val_loss: 1.5852 - val_accuracy: 0.4346\n",
            "Epoch 7/10\n",
            "352/352 [==============================] - 16s 45ms/step - loss: 1.4309 - accuracy: 0.4898 - val_loss: 1.5088 - val_accuracy: 0.4566\n",
            "Epoch 8/10\n",
            "352/352 [==============================] - 15s 44ms/step - loss: 1.4044 - accuracy: 0.4984 - val_loss: 1.5340 - val_accuracy: 0.4550\n",
            "Epoch 9/10\n",
            "352/352 [==============================] - 17s 47ms/step - loss: 1.3806 - accuracy: 0.5060 - val_loss: 1.4662 - val_accuracy: 0.4804\n",
            "Epoch 10/10\n",
            "352/352 [==============================] - 15s 43ms/step - loss: 1.3489 - accuracy: 0.5177 - val_loss: 1.4842 - val_accuracy: 0.4762\n",
            "313/313 [==============================] - 2s 6ms/step - loss: 1.4609 - accuracy: 0.4799\n",
            "Test Accuracy: 0.4799000024795532\n"
          ]
        }
      ],
      "source": [
        "import numpy as np\n",
        "import tensorflow as tf\n",
        "from tensorflow.keras import layers, models, optimizers\n",
        "from sklearn.model_selection import train_test_split\n",
        "\n",
        "# Load CIFAR-10 dataset\n",
        "(x_train, y_train), (x_test, y_test) = tf.keras.datasets.cifar10.load_data()\n",
        "\n",
        "# Normalize pixel values to range [0, 1]\n",
        "x_train, x_test = x_train / 255.0, x_test / 255.0\n",
        "\n",
        "# Flatten the images\n",
        "x_train = x_train.reshape(-1, 32*32*3)\n",
        "x_test = x_test.reshape(-1, 32*32*3)\n",
        "\n",
        "# Convert labels to one-hot encoding\n",
        "y_train = tf.keras.utils.to_categorical(y_train, num_classes=10)\n",
        "y_test = tf.keras.utils.to_categorical(y_test, num_classes=10)\n",
        "\n",
        "# Split data into training and validation sets\n",
        "x_train, x_val, y_train, y_val = train_test_split(x_train, y_train, test_size=0.1, random_state=42)\n",
        "\n",
        "# Define the model architecture\n",
        "def create_model():\n",
        "    model = models.Sequential([\n",
        "        layers.Dense(512, activation='relu', input_shape=(32*32*3,)),\n",
        "        layers.Dense(256, activation='relu'),\n",
        "        layers.Dense(128, activation='relu'),\n",
        "        layers.Dense(10, activation='softmax')\n",
        "    ])\n",
        "    return model\n",
        "\n",
        "model = create_model()\n",
        "\n",
        "# Compile the model\n",
        "model.compile(optimizer='adam',\n",
        "              loss='categorical_crossentropy',\n",
        "              metrics=['accuracy'])\n",
        "\n",
        "# Train the model\n",
        "history = model.fit(x_train, y_train, epochs=10, batch_size=128, validation_data=(x_val, y_val))\n",
        "\n",
        "# Evaluate the model\n",
        "test_loss, test_acc = model.evaluate(x_test, y_test)\n",
        "print(\"Test Accuracy:\", test_acc)\n"
      ]
    },
    {
      "cell_type": "code",
      "source": [],
      "metadata": {
        "id": "zD3vWczTav1Z"
      },
      "execution_count": null,
      "outputs": []
    }
  ]
}